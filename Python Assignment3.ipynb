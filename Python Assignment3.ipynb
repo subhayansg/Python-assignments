{
 "cells": [
  {
   "cell_type": "markdown",
   "metadata": {},
   "source": [
    "### 1.1\n",
    "Write a Python Program to implement your own myreduce() function which works exactly\n",
    "like Python's built-in function reduce()"
   ]
  },
  {
   "cell_type": "code",
   "execution_count": 91,
   "metadata": {},
   "outputs": [
    {
     "name": "stdout",
     "output_type": "stream",
     "text": [
      "20\n",
      "10\n",
      "20\n"
     ]
    }
   ],
   "source": [
    "def do_sum(x1, x2):\n",
    "    return x1 + x2\n",
    "from functools import reduce \n",
    "print(reduce(do_sum, [1, 2, 3, 4], 10))\n",
    "\n",
    "# My custom reduce function\n",
    "def myreduce(func, iterable, initial=None):\n",
    "    '''\n",
    "    myreduce() imitates reduce() function of functools module of Python\n",
    "    func     = Function name, it should take two arguments\n",
    "    iterable = Any iterable object like list etc.\n",
    "    initial  = When passed can be thought of first element of the iterable object, default is None\n",
    "    '''\n",
    "    if initial is not None:\n",
    "        result = initial\n",
    "        for each_item in iterable:\n",
    "            result = func(result,each_item)\n",
    "        return result\n",
    "    else:\n",
    "        result = iterable[0]\n",
    "        for each_item in iterable[1:]:\n",
    "            result = func(result,each_item)\n",
    "        return result\n",
    "print(myreduce(do_sum, [1, 2, 3, 4]))\n",
    "print(myreduce(do_sum, [1, 2, 3, 4],10))"
   ]
  },
  {
   "cell_type": "markdown",
   "metadata": {},
   "source": [
    "### 1.2\n",
    "Write a Python program to implement your own myfilter() function which works exactly\n",
    "like Python's built-in function filter()"
   ]
  },
  {
   "cell_type": "code",
   "execution_count": 112,
   "metadata": {},
   "outputs": [
    {
     "name": "stdout",
     "output_type": "stream",
     "text": [
      "[89, 99, 76]\n",
      "[89, 99, 76]\n",
      "[1, 3, 4, 5]\n"
     ]
    }
   ],
   "source": [
    "my_list = [89,65, 71, 99, 41, 76]\n",
    "def a_result(marks):\n",
    "        return marks>75\n",
    "print(list(filter(a_result,[89,65, 71, 99, 41, 76])))\n",
    "\n",
    "# My custom reduce function\n",
    "def myfilter(func, iterable):\n",
    "    '''\n",
    "    myfilter() function imitates built_in Python function filter()\n",
    "    func     = Function name, argument is required to return a boolean type, takes only one function\n",
    "    iterable = Any iterable object like list etc. Takes only one iterable\n",
    "    '''\n",
    "    final_result = []\n",
    "    for each_item in iterable:\n",
    "        if func(each_item):\n",
    "            final_result.append(each_item)\n",
    "    return final_result\n",
    "print(myfilter(a_result, [89,65, 71, 99, 41, 76]))"
   ]
  },
  {
   "cell_type": "markdown",
   "metadata": {},
   "source": [
    "### 2.\n",
    "Implement List comprehensions to produce the following lists."
   ]
  },
  {
   "cell_type": "code",
   "execution_count": 114,
   "metadata": {},
   "outputs": [
    {
     "name": "stdout",
     "output_type": "stream",
     "text": [
      "['x', 'xx', 'xxx', 'xxxx', 'y', 'yy', 'yyy', 'yyyy', 'z', 'zz', 'zzz', 'zzzz']\n",
      "['x', 'xx', 'xxx', 'xxxx', 'y', 'yy', 'yyy', 'yyyy', 'z', 'zz', 'zzz', 'zzzz']\n",
      "\n",
      "['x', 'y', 'z', 'xx', 'yy', 'zz', 'xxx', 'yyy', 'zzz', 'xxxx', 'yyyy', 'zzzz']\n",
      "\n",
      "[[2], [3], [4], [3], [4], [5], [4], [5], [6]]\n",
      "\n",
      "[[2, 3, 4, 5], [3, 4, 5, 6], [4, 5, 6, 7], [5, 6, 7, 8]]\n",
      "\n",
      "[(1, 1), (2, 1), (3, 1), (1, 2), (2, 2), (3, 2), (1, 3), (2, 3), (3, 3)]\n"
     ]
    }
   ],
   "source": [
    "# 1st list : method 1:\n",
    "xyz_11 = ['x'*i for i in range(1,5)]+['y'*i for i in range(1,5)]+['z'*i for i in range(1,5)]\n",
    "print(xyz_11)\n",
    "# 1st list : method 2:\n",
    "initial_list = ['x','y','z']\n",
    "xyz_12 = [i*item for item in initial_list for i in range(1,5)]\n",
    "print(xyz_12)\n",
    "print('')\n",
    "\n",
    "\n",
    "# 2nd list\n",
    "initial_list = ['x','y','z']\n",
    "xyz_2 = [i*item for i in range(1,5) for item in initial_list]\n",
    "print(xyz_2)\n",
    "print('')\n",
    "\n",
    "\n",
    "# 3rd list\n",
    "initial_num_list = [2,3,4]\n",
    "num_234 = [[num+i] for i in range(0,3) for num in initial_num_list]\n",
    "print(num_234)\n",
    "print('')\n",
    "\n",
    "\n",
    "# 4th list\n",
    "initial_num_list = [2,3,4,5]\n",
    "num_2345 = [[num+i for num in initial_num_list] for i in range(0,4)]\n",
    "print(num_2345)\n",
    "print('')\n",
    "\n",
    "\n",
    "# 5th list\n",
    "initial_num_list = [1,2,3]\n",
    "num_123 = [(i,j) for j in initial_num_list for i in initial_num_list]\n",
    "print(num_123)"
   ]
  }
 ],
 "metadata": {
  "kernelspec": {
   "display_name": "Python 3",
   "language": "python",
   "name": "python3"
  },
  "language_info": {
   "codemirror_mode": {
    "name": "ipython",
    "version": 3
   },
   "file_extension": ".py",
   "mimetype": "text/x-python",
   "name": "python",
   "nbconvert_exporter": "python",
   "pygments_lexer": "ipython3",
   "version": "3.7.6"
  }
 },
 "nbformat": 4,
 "nbformat_minor": 4
}
