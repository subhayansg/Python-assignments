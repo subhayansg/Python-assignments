{
 "cells": [
  {
   "cell_type": "markdown",
   "metadata": {},
   "source": [
    "### 1.1\n",
    "Write a Python Program(with class concepts) to find the area of the triangle using the below\n",
    "formula:\n",
    "area = (s*(s-a)*(s-b)*(s-c)) ** 0.5\n",
    "\n",
    "Function to take the length of the sides of triangle from user should be defined in the parent\n",
    "class and function to calculate the area should be defined in subclass."
   ]
  },
  {
   "cell_type": "code",
   "execution_count": 10,
   "metadata": {},
   "outputs": [
    {
     "name": "stdout",
     "output_type": "stream",
     "text": [
      "Input side a: 3\n",
      "Input side b: 4\n",
      "Input side c: 5\n",
      "The area of the triangle is: 6.0\n"
     ]
    }
   ],
   "source": [
    "import math\n",
    "class Area():\n",
    "    a = input('Input side a: ')\n",
    "    a = float(a)\n",
    "    b = input('Input side b: ')\n",
    "    b = float(b)\n",
    "    c = input('Input side c: ')\n",
    "    c = float(c)\n",
    "    s = (a+b+c)/2\n",
    "    def __init__(self):\n",
    "        pass\n",
    "class Triangle(Area):\n",
    "    def __init__(self):\n",
    "        Area.__init__(self)\n",
    "    def triangle_area(self):\n",
    "        if Area.a+Area.b<Area.c or Area.a+Area.c<Area.b or Area.b+Area.c<Area.a:\n",
    "            print('Area of triangle can not be calculated')\n",
    "        else:\n",
    "            area_of_triangle = math.sqrt(Area.s*(Area.s-Area.a)*(Area.s-Area.b)*(Area.s-Area.c))\n",
    "            print(f'The area of the triangle is: {area_of_triangle}') \n",
    "c = Triangle()\n",
    "c.triangle_area()"
   ]
  },
  {
   "cell_type": "markdown",
   "metadata": {},
   "source": [
    "### 1.2\n",
    "Write a function filter_long_words() that takes a list of words and an integer n and returns\n",
    "the list of words that are longer than n."
   ]
  },
  {
   "cell_type": "code",
   "execution_count": 13,
   "metadata": {},
   "outputs": [
    {
     "name": "stdout",
     "output_type": "stream",
     "text": [
      "['Russia', 'Canada', 'Brazil']\n"
     ]
    }
   ],
   "source": [
    "def filter_long_words(list_of_words, n):\n",
    "    new_list_of_words = []\n",
    "    for each_word in list_of_words:\n",
    "        if len(each_word) > n:\n",
    "            new_list_of_words.append(each_word)\n",
    "    return new_list_of_words\n",
    "call_func = filter_long_words(['India','China','Russia','USA','Japan','Canada','Brazil'],5)\n",
    "print(call_func)"
   ]
  },
  {
   "cell_type": "markdown",
   "metadata": {},
   "source": [
    "### 2.1\n",
    "Write a Python program using function concept that maps list of words into a list of integers\n",
    "representing the lengths of the corresponding words.\n",
    "\n",
    "Hint: If a list [ ab,cde,erty] is passed on to the python function output should come as [2,3,4]\n",
    "Here 2,3 and 4 are the lengths of the words in the list."
   ]
  },
  {
   "cell_type": "code",
   "execution_count": 14,
   "metadata": {},
   "outputs": [
    {
     "name": "stdout",
     "output_type": "stream",
     "text": [
      "[5, 5, 6, 3, 5, 6, 6]\n"
     ]
    }
   ],
   "source": [
    "def word_length(list_of_words):\n",
    "    length_of_word = []\n",
    "    for each_word in list_of_words:\n",
    "        length_of_word.append(len(each_word))\n",
    "    return length_of_word\n",
    "call_func = word_length(['India','China','Russia','USA','Japan','Canada','Brazil'])\n",
    "print(call_func)"
   ]
  },
  {
   "cell_type": "markdown",
   "metadata": {},
   "source": [
    "### 2.2\n",
    "Write a Python function which takes a character (i.e. a string of length 1) and returns True if\n",
    "it is a vowel, False otherwise."
   ]
  },
  {
   "cell_type": "code",
   "execution_count": 7,
   "metadata": {},
   "outputs": [],
   "source": [
    "def vowel_check():\n",
    "    character = input('Type in a single character: ')\n",
    "    vowels = ['a','e','i','o','u','A','E','I','O','U']\n",
    "    if character in vowels:\n",
    "        return True\n",
    "    else:\n",
    "        return False"
   ]
  },
  {
   "cell_type": "code",
   "execution_count": 8,
   "metadata": {
    "scrolled": true
   },
   "outputs": [
    {
     "name": "stdout",
     "output_type": "stream",
     "text": [
      "Type in a single character: a\n"
     ]
    },
    {
     "data": {
      "text/plain": [
       "True"
      ]
     },
     "execution_count": 8,
     "metadata": {},
     "output_type": "execute_result"
    }
   ],
   "source": [
    "vowel_check()"
   ]
  }
 ],
 "metadata": {
  "kernelspec": {
   "display_name": "Python 3",
   "language": "python",
   "name": "python3"
  },
  "language_info": {
   "codemirror_mode": {
    "name": "ipython",
    "version": 3
   },
   "file_extension": ".py",
   "mimetype": "text/x-python",
   "name": "python",
   "nbconvert_exporter": "python",
   "pygments_lexer": "ipython3",
   "version": "3.7.6"
  }
 },
 "nbformat": 4,
 "nbformat_minor": 4
}
